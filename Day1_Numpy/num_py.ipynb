{
 "cells": [
  {
   "cell_type": "code",
   "execution_count": 2,
   "id": "5dc19d79",
   "metadata": {},
   "outputs": [],
   "source": [
    "# declare variable\n",
    "import numpy as np\n",
    "n1=np.array([10,20,30,40])"
   ]
  },
  {
   "cell_type": "code",
   "execution_count": 3,
   "id": "8395cc3a",
   "metadata": {},
   "outputs": [
    {
     "name": "stdout",
     "output_type": "stream",
     "text": [
      "[10 20 30 40]\n"
     ]
    }
   ],
   "source": [
    "#print variable\n",
    "print(n1)"
   ]
  },
  {
   "cell_type": "code",
   "execution_count": 4,
   "id": "8f586117",
   "metadata": {},
   "outputs": [
    {
     "data": {
      "text/plain": [
       "array([10, 20, 30, 40])"
      ]
     },
     "execution_count": 4,
     "metadata": {},
     "output_type": "execute_result"
    }
   ],
   "source": [
    "# print variable with array\n",
    "n1"
   ]
  },
  {
   "cell_type": "code",
   "execution_count": 6,
   "id": "ed94fcec",
   "metadata": {},
   "outputs": [
    {
     "data": {
      "text/plain": [
       "numpy.ndarray"
      ]
     },
     "execution_count": 6,
     "metadata": {},
     "output_type": "execute_result"
    }
   ],
   "source": [
    "#type of variable\n",
    "type(n1)"
   ]
  },
  {
   "cell_type": "markdown",
   "id": "61781ab3",
   "metadata": {},
   "source": [
    "# multi dimensional array 4*5 array\n",
    "\n",
    "n2=np.array([[10,20,30,40],[50,60,70,80],[90,100,110,120],[130,140,150,160]])\n"
   ]
  },
  {
   "cell_type": "code",
   "execution_count": null,
   "id": "ec027d5c",
   "metadata": {},
   "outputs": [],
   "source": []
  },
  {
   "cell_type": "code",
   "execution_count": 30,
   "id": "33019e32",
   "metadata": {},
   "outputs": [
    {
     "name": "stdout",
     "output_type": "stream",
     "text": [
      "[[ 10  20  30  40]\n",
      " [ 50  60  70  80]\n",
      " [ 90 100 110 120]\n",
      " [130 140 150 160]\n",
      " [170 180 190 200]]\n"
     ]
    }
   ],
   "source": [
    "n2=np.array([[10,20,30,40],[50,60,70,80],[90,100,110,120],[130,140,150,160],[170,180,190,200]])\n",
    "print(n2)"
   ]
  },
  {
   "cell_type": "code",
   "execution_count": null,
   "id": "c55d06e9",
   "metadata": {},
   "outputs": [],
   "source": []
  },
  {
   "cell_type": "code",
   "execution_count": 14,
   "id": "9b7ab8c2",
   "metadata": {},
   "outputs": [
    {
     "name": "stdout",
     "output_type": "stream",
     "text": [
      "[[0. 0. 0. 0.]\n",
      " [0. 0. 0. 0.]\n",
      " [0. 0. 0. 0.]]\n"
     ]
    }
   ],
   "source": [
    "# print 0 on 3*4 element\n",
    "n3 = np.zeros([3,4])\n",
    "print(n3)"
   ]
  },
  {
   "cell_type": "code",
   "execution_count": 16,
   "id": "620c2120",
   "metadata": {},
   "outputs": [
    {
     "name": "stdout",
     "output_type": "stream",
     "text": [
      "[[9 9 9]\n",
      " [9 9 9]\n",
      " [9 9 9]]\n"
     ]
    }
   ],
   "source": [
    "# print same  on 3*3 element array\n",
    "n4 =np.full([3,3],9)\n",
    "print(n4)"
   ]
  },
  {
   "cell_type": "code",
   "execution_count": 18,
   "id": "fc53ee6a",
   "metadata": {},
   "outputs": [
    {
     "name": "stdout",
     "output_type": "stream",
     "text": [
      "[10 11 12 13 14 15 16 17 18 19]\n"
     ]
    }
   ],
   "source": [
    "#initialization of NumPy array within a range\n",
    "n5= np.arange(10,20)\n",
    "print(n5)"
   ]
  },
  {
   "cell_type": "code",
   "execution_count": 20,
   "id": "33a09b0a",
   "metadata": {},
   "outputs": [
    {
     "name": "stdout",
     "output_type": "stream",
     "text": [
      "[  10   28   46   64   82  100  118  136  154  172  190  208  226  244\n",
      "  262  280  298  316  334  352  370  388  406  424  442  460  478  496\n",
      "  514  532  550  568  586  604  622  640  658  676  694  712  730  748\n",
      "  766  784  802  820  838  856  874  892  910  928  946  964  982 1000\n",
      " 1018 1036 1054 1072 1090 1108 1126 1144 1162 1180 1198 1216 1234 1252\n",
      " 1270 1288 1306 1324 1342 1360 1378 1396 1414 1432 1450 1468 1486 1504\n",
      " 1522 1540 1558 1576 1594 1612 1630 1648 1666 1684 1702 1720 1738 1756\n",
      " 1774 1792 1810 1828 1846 1864 1882 1900 1918 1936 1954 1972 1990]\n"
     ]
    }
   ],
   "source": [
    "#initialization of NumPy array within the skip\n",
    "n6= np.arange(10,2000,18)    #(start,end,difference)\n",
    "print(n6)"
   ]
  },
  {
   "cell_type": "code",
   "execution_count": 21,
   "id": "7d8a2b25",
   "metadata": {},
   "outputs": [
    {
     "name": "stdout",
     "output_type": "stream",
     "text": [
      "[ 1  4  7 10 13 16 19]\n"
     ]
    }
   ],
   "source": [
    "#example\n",
    "n7=np.arange(1,20,3)\n",
    "print(n7)"
   ]
  },
  {
   "cell_type": "code",
   "execution_count": 22,
   "id": "496361aa",
   "metadata": {},
   "outputs": [
    {
     "name": "stdout",
     "output_type": "stream",
     "text": [
      "[951 961 376 218 150 938 550 295 365 676]\n"
     ]
    }
   ],
   "source": [
    "# initiaization NumPy array with the random value\n",
    "n8=np.random.randint(100,1000,10)\n",
    "print(n8)"
   ]
  },
  {
   "cell_type": "code",
   "execution_count": 27,
   "id": "a921e293",
   "metadata": {},
   "outputs": [
    {
     "name": "stdout",
     "output_type": "stream",
     "text": [
      "random number = [144801]\n"
     ]
    }
   ],
   "source": [
    "#example\n",
    "n9=np.random.randint(100000,1000000,1)\n",
    "print(\"random number =\",n9)"
   ]
  },
  {
   "cell_type": "code",
   "execution_count": 31,
   "id": "d80d4ea2",
   "metadata": {},
   "outputs": [
    {
     "name": "stdout",
     "output_type": "stream",
     "text": [
      "[[ 10  20  30  40]\n",
      " [ 50  60  70  80]\n",
      " [ 90 100 110 120]\n",
      " [130 140 150 160]\n",
      " [170 180 190 200]]\n"
     ]
    }
   ],
   "source": [
    "## initiaization NumPy the array shape change in frame\n",
    "print(n2)"
   ]
  },
  {
   "cell_type": "code",
   "execution_count": 32,
   "id": "39a07ff4",
   "metadata": {},
   "outputs": [
    {
     "data": {
      "text/plain": [
       "(5, 4)"
      ]
     },
     "execution_count": 32,
     "metadata": {},
     "output_type": "execute_result"
    }
   ],
   "source": [
    "# shape of array\n",
    "n2.shape"
   ]
  },
  {
   "cell_type": "code",
   "execution_count": 38,
   "id": "d9e4fe47",
   "metadata": {},
   "outputs": [
    {
     "name": "stdout",
     "output_type": "stream",
     "text": [
      "[[ 10  20  30  40  50]\n",
      " [ 60  70  80  90 100]\n",
      " [110 120 130 140 150]\n",
      " [160 170 180 190 200]]\n"
     ]
    }
   ],
   "source": [
    "#change shape of array \n",
    "n2.shape=(4,5)\n",
    "print(n2)"
   ]
  },
  {
   "cell_type": "code",
   "execution_count": 43,
   "id": "16a72b55",
   "metadata": {},
   "outputs": [],
   "source": [
    "# join two array\n",
    "a =np.array([1,2,3])\n",
    "b =np.array([4,5,6])\n"
   ]
  },
  {
   "cell_type": "code",
   "execution_count": 44,
   "id": "399a560d",
   "metadata": {},
   "outputs": [
    {
     "data": {
      "text/plain": [
       "array([[1, 2, 3],\n",
       "       [4, 5, 6]])"
      ]
     },
     "execution_count": 44,
     "metadata": {},
     "output_type": "execute_result"
    }
   ],
   "source": [
    "np.vstack((a,b)) #joining two array vertically"
   ]
  },
  {
   "cell_type": "code",
   "execution_count": 46,
   "id": "4e04d114",
   "metadata": {},
   "outputs": [
    {
     "data": {
      "text/plain": [
       "array([1, 2, 3, 4, 5, 6])"
      ]
     },
     "execution_count": 46,
     "metadata": {},
     "output_type": "execute_result"
    }
   ],
   "source": [
    "np.hstack((a,b)) #joining two array hprizaontally"
   ]
  },
  {
   "cell_type": "code",
   "execution_count": 2,
   "id": "d65e8a8b",
   "metadata": {},
   "outputs": [],
   "source": [
    "# line plot baics\n",
    "import numpy as np \n",
    "from matplotlib import pyplot as plt"
   ]
  },
  {
   "cell_type": "code",
   "execution_count": 3,
   "id": "53391204",
   "metadata": {},
   "outputs": [],
   "source": [
    "x=np.arange(1,11)"
   ]
  },
  {
   "cell_type": "code",
   "execution_count": 4,
   "id": "b48122b0",
   "metadata": {},
   "outputs": [
    {
     "name": "stdout",
     "output_type": "stream",
     "text": [
      "[ 1  2  3  4  5  6  7  8  9 10]\n"
     ]
    }
   ],
   "source": [
    "print(x)"
   ]
  },
  {
   "cell_type": "code",
   "execution_count": 5,
   "id": "2b7e6e3b",
   "metadata": {},
   "outputs": [],
   "source": [
    "y=2*x"
   ]
  },
  {
   "cell_type": "code",
   "execution_count": 6,
   "id": "e12b1aac",
   "metadata": {},
   "outputs": [
    {
     "name": "stdout",
     "output_type": "stream",
     "text": [
      "[ 2  4  6  8 10 12 14 16 18 20]\n"
     ]
    }
   ],
   "source": [
    "print(y)"
   ]
  },
  {
   "cell_type": "code",
   "execution_count": 9,
   "id": "bfc16a14",
   "metadata": {},
   "outputs": [
    {
     "data": {
      "image/png": "[encoded data removed]",
      "text/plain": [
       "<Figure size 640x480 with 1 Axes>"
      ]
     },
     "metadata": {},
     "output_type": "display_data"
    }
   ],
   "source": [
    "plt.plot(x,y)\n",
    "plt.show()"
   ]
  },
  {
   "cell_type": "code",
   "execution_count": null,
   "id": "b42f2962",
   "metadata": {},
   "outputs": [],
   "source": []
  },
  {
   "cell_type": "code",
   "execution_count": null,
   "id": "39b92c18",
   "metadata": {},
   "outputs": [],
   "source": []
  },
  {
   "cell_type": "code",
   "execution_count": null,
   "id": "c0456b3b",
   "metadata": {},
   "outputs": [],
   "source": []
  },
  {
   "cell_type": "code",
   "execution_count": null,
   "id": "e828510e",
   "metadata": {},
   "outputs": [],
   "source": []
  },
  {
   "cell_type": "code",
   "execution_count": null,
   "id": "5379c032",
   "metadata": {},
   "outputs": [],
   "source": []
  },
  {
   "cell_type": "code",
   "execution_count": null,
   "id": "6ea5e934",
   "metadata": {},
   "outputs": [],
   "source": []
  },
  {
   "cell_type": "code",
   "execution_count": null,
   "id": "571d7a82",
   "metadata": {},
   "outputs": [],
   "source": []
  },
  {
   "cell_type": "code",
   "execution_count": null,
   "id": "a269995e",
   "metadata": {},
   "outputs": [],
   "source": []
  },
  {
   "cell_type": "code",
   "execution_count": null,
   "id": "58e74df2",
   "metadata": {},
   "outputs": [],
   "source": []
  },
  {
   "cell_type": "code",
   "execution_count": null,
   "id": "6cf76c1a",
   "metadata": {},
   "outputs": [],
   "source": []
  },
  {
   "cell_type": "code",
   "execution_count": null,
   "id": "d8da41a9",
   "metadata": {},
   "outputs": [],
   "source": []
  },
  {
   "cell_type": "code",
   "execution_count": null,
   "id": "bad073ad",
   "metadata": {},
   "outputs": [],
   "source": []
  },
  {
   "cell_type": "code",
   "execution_count": null,
   "id": "0f5a4eb0",
   "metadata": {},
   "outputs": [],
   "source": []
  },
  {
   "cell_type": "code",
   "execution_count": null,
   "id": "fea0118a",
   "metadata": {},
   "outputs": [],
   "source": []
  },
  {
   "cell_type": "code",
   "execution_count": null,
   "id": "2e130fea",
   "metadata": {},
   "outputs": [],
   "source": []
  },
  {
   "cell_type": "code",
   "execution_count": null,
   "id": "b1d9d770",
   "metadata": {},
   "outputs": [],
   "source": []
  },
  {
   "cell_type": "code",
   "execution_count": null,
   "id": "1a24fa73",
   "metadata": {},
   "outputs": [],
   "source": []
  },
  {
   "cell_type": "code",
   "execution_count": null,
   "id": "945f919a",
   "metadata": {},
   "outputs": [],
   "source": []
  },
  {
   "cell_type": "code",
   "execution_count": null,
   "id": "ad78dddb",
   "metadata": {},
   "outputs": [],
   "source": []
  }
 ],
 "metadata": {
  "kernelspec": {
   "display_name": "Python 3 (ipykernel)",
   "language": "python",
   "name": "python3"
  },
  "language_info": {
   "codemirror_mode": {
    "name": "ipython",
    "version": 3
   },
   "file_extension": ".py",
   "mimetype": "text/x-python",
   "name": "python",
   "nbconvert_exporter": "python",
   "pygments_lexer": "ipython3",
   "version": "3.11.5"
  }
 },
 "nbformat": 4,
 "nbformat_minor": 5
}
